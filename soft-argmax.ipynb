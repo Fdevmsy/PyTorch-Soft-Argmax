{
 "cells": [
  {
   "cell_type": "code",
   "execution_count": 1,
   "metadata": {},
   "outputs": [],
   "source": [
    "import torch\n",
    "import torch.nn as nn"
   ]
  },
  {
   "cell_type": "code",
   "execution_count": 27,
   "metadata": {},
   "outputs": [
    {
     "data": {
      "text/plain": [
       "tensor([[[[[ 0.5707,  1.7499,  0.4102],\n",
       "           [ 0.1635, -0.0988, -0.0264],\n",
       "           [ 2.6499, -0.1418, -2.1186]],\n",
       "\n",
       "          [[ 0.0049, -0.1285, -0.9183],\n",
       "           [ 0.1833,  0.5092,  1.6888],\n",
       "           [ 1.2434,  0.6154, -0.2424]],\n",
       "\n",
       "          [[-0.8407, -0.1084, -1.2854],\n",
       "           [-0.0700, -0.3714, -0.0925],\n",
       "           [-1.6710,  0.3054, -0.7997]]],\n",
       "\n",
       "\n",
       "         [[[-2.4083,  0.5959, -0.8859],\n",
       "           [-0.5961,  2.0056, -2.4234],\n",
       "           [ 0.5245, -0.7293,  0.3767]],\n",
       "\n",
       "          [[-1.1699, -0.4419, -0.2192],\n",
       "           [-1.2190, -2.0901, -0.0006],\n",
       "           [ 0.5495,  1.6112, -1.7551]],\n",
       "\n",
       "          [[-0.3411, -0.0840, -0.7943],\n",
       "           [ 0.4908, -0.9687,  0.0815],\n",
       "           [ 0.4169, -0.8095,  0.0221]]]]])"
      ]
     },
     "execution_count": 27,
     "metadata": {},
     "output_type": "execute_result"
    }
   ],
   "source": [
    "voxel = torch.randn(1,2,3,3,3) # (batch_size, channel, H, W, depth)\n",
    "voxel"
   ]
  },
  {
   "cell_type": "code",
   "execution_count": 30,
   "metadata": {},
   "outputs": [],
   "source": [
    "def soft_argmax(voxels):\n",
    "    \"\"\"\n",
    "    Arguments: voxel patch in shape (batch_size, channel, H, W, depth)\n",
    "    Return: 3D coordinates in shape (batch_size, channel, 3)\n",
    "    \"\"\"\n",
    "    assert voxels.dim()==5\n",
    "    # alpha is here to make the largest element really big, so it\n",
    "    # would become very close to 1 after softmax\n",
    "    alpha = 1000.0 \n",
    "    N,C,H,W,D = voxels.shape\n",
    "    soft_max = nn.functional.softmax(voxels.view(N,C,-1)*alpha,dim=2)\n",
    "    soft_max = soft_max.view(voxels.shape)\n",
    "    indices_kernel = torch.arange(start=0,end=H*W*D).unsqueeze(0)\n",
    "    indices_kernel = indices_kernel.view((H,W,D))\n",
    "    conv = soft_max*indices_kernel\n",
    "    indices = conv.sum(2).sum(2).sum(2)\n",
    "    z = indices%D\n",
    "    y = (indices/D).floor()%W\n",
    "    x = (((indices/D).floor())/W).floor()%H\n",
    "    coords = torch.stack([x,y,z],dim=2)\n",
    "    return coords"
   ]
  },
  {
   "cell_type": "code",
   "execution_count": 31,
   "metadata": {},
   "outputs": [
    {
     "data": {
      "text/plain": [
       "tensor([[[ 0.,  2.,  0.],\n",
       "         [ 0.,  1.,  1.]]])"
      ]
     },
     "execution_count": 31,
     "metadata": {},
     "output_type": "execute_result"
    }
   ],
   "source": [
    "coords = soft_argmax(voxel)\n",
    "coords"
   ]
  },
  {
   "cell_type": "code",
   "execution_count": null,
   "metadata": {},
   "outputs": [],
   "source": []
  },
  {
   "cell_type": "code",
   "execution_count": null,
   "metadata": {},
   "outputs": [],
   "source": []
  }
 ],
 "metadata": {
  "kernelspec": {
   "display_name": "Python 3",
   "language": "python",
   "name": "python3"
  },
  "language_info": {
   "codemirror_mode": {
    "name": "ipython",
    "version": 3
   },
   "file_extension": ".py",
   "mimetype": "text/x-python",
   "name": "python",
   "nbconvert_exporter": "python",
   "pygments_lexer": "ipython3",
   "version": "3.6.7"
  }
 },
 "nbformat": 4,
 "nbformat_minor": 2
}
